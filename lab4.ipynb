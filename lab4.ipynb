{
 "cells": [
  {
   "cell_type": "markdown",
   "metadata": {},
   "source": [
    "# <center>Laboratorium 4<br>Metody Numeryczne<br>Interpolacja</center>"
   ]
  },
  {
   "cell_type": "markdown",
   "metadata": {},
   "source": [
    "<b>Instrukcja</b>  \n",
    "Sprawozdanie należy wykonać w środowisku [Jupyter Notebook](https://jupyter-notebook.readthedocs.io/en/stable/) i przesłać na platformę moodle."
   ]
  },
  {
   "cell_type": "markdown",
   "metadata": {},
   "source": [
    "***Zadanie 1.*** "
   ]
  },
  {
   "cell_type": "markdown",
   "metadata": {},
   "source": [
    "Napisz funkcję w Pythonie, która znajduje wielomian interpolacyjny dla zadanych węzłów metodą Lagrange'a. Funkcja powinna przyjmować na wejście listę argumentów oraz listę odpowiadających im wartości i zwracać wielomian jako obiekt typu funkcja."
   ]
  },
  {
   "cell_type": "markdown",
   "metadata": {},
   "source": [
    "***Zadanie 2.*** "
   ]
  },
  {
   "cell_type": "markdown",
   "metadata": {},
   "source": [
    "Dana jest funkcja $f(x)=\\frac{1}{25x^2+1}$. Dokonaj interpolacji funkcji $f$ na przedziale $[-2,2]$ wielomianem oraz funkcjami sklejanymi 3 stopnia w:\n",
    "- 21 równoodległych węzłach,\n",
    "- 21 węzłach Czebyszewa.\n",
    "\n",
    "Możesz wykorzystać funkcje [polyfit](https://docs.scipy.org/doc/numpy-1.15.0/reference/generated/numpy.polyfit.html) oraz [interp1d](https://docs.scipy.org/doc/scipy/reference/generated/scipy.interpolate.interp1d.html#scipy.interpolate.interp1d).\n",
    "Przedstaw otrzymane rezultaty wraz z węzłami interpolacji i funkcją $f$ na dwóch wykresach (odpowiednio dla metody Lagrange'a oraz funkcji sklejanych). Porównaj wyniki. Z jakimi problemami mamy tu do czynienia?"
   ]
  },
  {
   "cell_type": "markdown",
   "metadata": {},
   "source": [
    "***Zadanie 3.*** "
   ]
  },
  {
   "cell_type": "markdown",
   "metadata": {},
   "source": [
    "W poniższej tabeli przedstawione zostały wyniki pomiarów prędkości obrotowej silnika prądu stałego w zależności od napięcia jego zasilania. Dokonaj interpolacji wielomianowej charakterystyki i porównaj jej wyniki z aproksymacją wielomianami 1, 2 i 3 stopnia.\n",
    "\n",
    "|napięcie \\[V\\]|prędkość obrotowa \\[1000 RPM\\]|napięcie \\[V\\]|prędkość obrotowa \\[1000 RPM\\]|napięcie \\[V\\]|prędkość obrotowa \\[1000 RPM\\]\n",
    "|--|--|--|--|--|--|\n",
    "| -10.0| -9.10| -3.0| -3.65| 4.0| 4.61|\n",
    "| -9.0| -8.82| -2.0| -2.52| 5.0| 5.51|\n",
    "| -8.0| -7.99| -1.0| -1.28| 6.0| 6.32|\n",
    "| -7.0| -7.10| 0.0| 0.00| 7.0| 7.10|\n",
    "| -6.0| -6.32| 1.0| 1.26| 8.0| 7.81|\n",
    "| -5.0| -5.33| 2.0| 2.49| 9.0| 8.45|\n",
    "| -4.0| -4.73| 3.0| 3.61| 10.0| 9.02|"
   ]
  },
  {
   "cell_type": "markdown",
   "metadata": {},
   "source": [
    "***Zadanie 4.*** "
   ]
  },
  {
   "cell_type": "markdown",
   "metadata": {},
   "source": [
    "Kierowca jadący z miasta A do miasta B, zauważywszy na drodze fotoradar, zaczął gwałtownie hamować. Przebieg jego położenia, zarejestrowanego przez nawigację, przedstawiony jest w poniższej tabeli. Wiedząc, że radar znajduje się w punkcie o współrzędnej 79.6 m, oszacuj kiedy kierowca minął fotoradar oraz z jaką prędkością wtedy jechał.\n",
    "\n",
    "|czas \\[s\\]|położenie \\[m\\]|\n",
    "|--|--|\n",
    "|0.0|0.0|\n",
    "|1.0|42.7|\n",
    "|2.0|73.2|\n",
    "|3.0|92.5|\n"
   ]
  }
 ],
 "metadata": {
  "kernelspec": {
   "display_name": "Python 3",
   "language": "python",
   "name": "python3"
  },
  "language_info": {
   "codemirror_mode": {
    "name": "ipython",
    "version": 3
   },
   "file_extension": ".py",
   "mimetype": "text/x-python",
   "name": "python",
   "nbconvert_exporter": "python",
   "pygments_lexer": "ipython3",
   "version": "3.7.0"
  }
 },
 "nbformat": 4,
 "nbformat_minor": 2
}
