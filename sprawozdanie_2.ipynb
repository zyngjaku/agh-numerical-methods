{
 "cells": [
  {
   "cell_type": "markdown",
   "metadata": {},
   "source": [
    "    Sprawozdanie 2.          EAIiIB, Informatyka, Metody Numeryczne          Jakub Zyngier"
   ]
  },
  {
   "cell_type": "markdown",
   "metadata": {},
   "source": [
    "Zadanie 1."
   ]
  },
  {
   "cell_type": "code",
   "execution_count": 1,
   "metadata": {
    "scrolled": true
   },
   "outputs": [
    {
     "name": "stdout",
     "output_type": "stream",
     "text": [
      "a )\n",
      "Błąd bezwzględny:  0.19999999999998863\n",
      "Błąd względny 0.0013333333333332576 %\n",
      "b )\n",
      "Błąd bezwzględny:  0.0012644892673496777\n",
      "Błąd względny 0.0004024994347707008 %\n",
      "c )\n",
      "Błąd bezwzględny:  0.0002818284590451192\n",
      "Błąd względny 0.00010367889601972718 %\n",
      "d )\n",
      "Błąd bezwzględny:  11.544268632989315\n",
      "Błąd względny 0.008332470227394952 %\n",
      "e )\n",
      "Błąd bezwzględny:  3343.1271580516477\n",
      "Błąd względny 0.009212762230080598 %\n"
     ]
    }
   ],
   "source": [
    "import math\n",
    "\n",
    "def blad_bezwzgledny(p, p_szac):\n",
    "    return math.fabs(p-p_szac)\n",
    "    \n",
    "def blad_wzgledny(p, p_szac):\n",
    "    delta_p = blad_bezwzgledny(p, p_szac)  \n",
    "    return (delta_p/p)*1\n",
    "\n",
    "list_numerki = ['a', 'b', 'c', 'd', 'e']   \n",
    "list_p = [150,math.pi, math.e, math.pow(10, math.pi), 1*2*3*4*5*6*7*8*9]\n",
    "list_p_szac = [150.2,22/7, 2.718, 1397, math.sqrt(18*math.pi)*pow((9/math.e), 9)]\n",
    "\n",
    "for numerki, p, p_szac in zip(list_numerki, list_p, list_p_szac):\n",
    "    print(numerki, \")\")\n",
    "    print(\"Błąd bezwzględny: \", blad_bezwzgledny(p, p_szac))\n",
    "    print(\"Błąd względny\", blad_wzgledny(p, p_szac),\"%\")"
   ]
  },
  {
   "cell_type": "markdown",
   "metadata": {},
   "source": [
    "Zadanie 2."
   ]
  },
  {
   "cell_type": "code",
   "execution_count": 16,
   "metadata": {},
   "outputs": [
    {
     "name": "stdout",
     "output_type": "stream",
     "text": [
      "0.0          0.0\n",
      "3.552713678800501e-15          1.1308638867425838e-15\n",
      "2.708944180085382e-14          8.622837136412201e-15\n",
      "3.304023721284466e-13          1.0517034146706029e-13\n",
      "6.945555242054979e-13          2.2108388985817513e-13\n",
      "5.126565838509123e-12          1.6318365885695483e-12\n",
      "1.4455014962777568e-10          4.601174167586719e-11\n",
      "1.2154188766544394e-10          3.868798442935053e-11\n",
      "7.949920277638967e-09          2.530538218745469e-09\n",
      "1.3510649621295556e-07          4.300573343223663e-08\n",
      "[3.141592653589793, 3.1415926535897967, 3.14159265358982, 3.1415926535901235, 3.1415926535904877, 3.1415926535846666, 3.1415926537343433, 3.1415926534682512, 3.1415926615397134, 3.1415927886962893]\n"
     ]
    },
    {
     "data": {
      "image/png": "[encoded data removed]",
      "text/plain": [
       "<Figure size 432x288 with 1 Axes>"
      ]
     },
     "metadata": {
      "needs_background": "light"
     },
     "output_type": "display_data"
    },
    {
     "data": {
      "image/png": "[encoded data removed]",
      "text/plain": [
       "<Figure size 432x288 with 1 Axes>"
      ]
     },
     "metadata": {
      "needs_background": "light"
     },
     "output_type": "display_data"
    }
   ],
   "source": [
    "import math\n",
    "\n",
    "def blad_bezwzgledny(p, p_szac):\n",
    "    return math.fabs(p-p_szac)\n",
    "    \n",
    "def blad_wzgledny(p, p_szac):\n",
    "    delta_p = blad_bezwzgledny(p, p_szac)  \n",
    "    return (delta_p/p)*1\n",
    "\n",
    "def g(p):\n",
    "    return (1/p)*(math.pow(10,p)*(1+p*round(math.pi,15)*math.pow(10,-p))-math.pow(10,p))\n",
    " \n",
    "n=10\n",
    "wyniki=[]\n",
    "blad_bezwzg=[]\n",
    "blad_wzg=[]\n",
    "for i in range(1,n+1):\n",
    "    wyniki.append(g(i))\n",
    "    blad_bezwzg.append(blad_bezwzgledny(g(1),g(i)))\n",
    "    blad_wzg.append(blad_wzgledny(g(1),g(i)))\n",
    "    print(blad_bezwzg[i-1],\"        \",blad_wzg[i-1])\n",
    "\n",
    "print(wyniki) #Wyniki analizowałem gdy roboczo ustawiłem sobie je w kolumnie\n",
    "\n",
    "\n",
    "#wykres\n",
    "import numpy as np\n",
    "import matplotlib.pyplot as plt\n",
    "import pylab\n",
    "\n",
    "x = np.linspace(1,10,10)\n",
    "\n",
    "fig = plt.figure()\n",
    "ax = fig.add_subplot(2, 1, 1)\n",
    "line, = ax.plot(blad_bezwzg, color='blue', lw=2)\n",
    "ax.set_yscale('log')\n",
    "pylab.show()\n",
    "\n",
    "fig = plt.figure()\n",
    "ax = fig.add_subplot(2, 1, 1)\n",
    "line, = ax.plot(blad_wzg, color='blue', lw=2)\n",
    "ax.set_yscale('log')\n",
    "pylab.show()\n",
    "\n"
   ]
  },
  {
   "cell_type": "markdown",
   "metadata": {},
   "source": [
    "* Wartość funkcji G(n) dla kolejnych wartości p od 1 do n nie zależą od wartości p, gdy obliczamy to w sposób analityczny.\n",
    "* Wraz ze wzrosten n błąd rośnie. Dla n=1 wynik jest najdokładniejszy.\n",
    "* Błędy występujące tutaj to błąd zaokrąglenia (liczba pi jest zaokrąglona do 15 miejsc po przecinku)\n",
    " "
   ]
  },
  {
   "cell_type": "markdown",
   "metadata": {},
   "source": [
    "Zadanie 3."
   ]
  },
  {
   "cell_type": "code",
   "execution_count": 28,
   "metadata": {
    "scrolled": true
   },
   "outputs": [
    {
     "name": "stdout",
     "output_type": "stream",
     "text": [
      "                        e = 2.718281828459045\n",
      "e* dla sumy do 0 do  5; e*= 2.7166666666666663\n",
      "e* dla sumy do 0 do 10; e*= 2.7182818011463845\n",
      "\n",
      "Dla sumy od 0 do  5 blad bezwzgledny: 0.0016151617923787498 ; blad wzgledny: 0.0005941848175817597\n",
      "Dla sumy od 5 do  0 blad bezwzgledny: 2.718281828459045 ; blad wzgledny: 0.0005941848175817597\n",
      "\n",
      "Dla sumy od 0 do 10 blad bezwzgledny: 2.7312660577649694e-08 ; blad wzgledny: 1.0047766310211053e-08\n",
      "Dla sumy od 10 do 0 blad bezwzgledny: 2.718281828459045 ; blad wzgledny: 1.0047766310211053e-08\n"
     ]
    }
   ],
   "source": [
    "import math\n",
    "  \n",
    "def blad_bezwzgledny(p, p_szac):\n",
    "    return math.fabs(p-p_szac)\n",
    "    \n",
    "def blad_wzgledny(p, p_szac):\n",
    "    delta_p = blad_bezwzgledny(p, p_szac)  \n",
    "    return (delta_p/p)*1   \n",
    "    \n",
    "def sil(n):\n",
    "  if n>1:\n",
    "    return n*sil(n-1)\n",
    "  elif n in (0,1):\n",
    "    return 1;\n",
    " \n",
    "def e(od, do):\n",
    "  result=0\n",
    "  for i in range(od, do+1):\n",
    "    result+=1/sil(i)\n",
    " \n",
    "  return result\n",
    "\n",
    "print(\"                        e =\",math.e) \n",
    "print(\"e* dla sumy do 0 do  5; e*=\",e(0,5))\n",
    "print(\"e* dla sumy do 0 do 10; e*=\",e(0,10))\n",
    "\n",
    "#Dla funkcji e(od, do) w przypadku liczenia sumy od najwiekszej do najmniejszej wartość namniejsza jest ujemna, ponieważ w funkcji przyjmowana jest ona jako najmniejsza+1\n",
    "print(\"\\nDla sumy od 0 do  5 blad bezwzgledny:\",blad_bezwzgledny(math.e, e(0,5)),\"; blad wzgledny:\",blad_wzgledny(math.e, e(0,5)))\n",
    "print(\"Dla sumy od 5 do  0 blad bezwzgledny:\",blad_bezwzgledny(math.e, e(5,-1)),\"; blad wzgledny:\",blad_wzgledny(math.e, e(0,5)))\n",
    "print(\"\\nDla sumy od 0 do 10 blad bezwzgledny:\",blad_bezwzgledny(math.e, e(0,10)),\"; blad wzgledny:\",blad_wzgledny(math.e, e(0,10)))\n",
    "print(\"Dla sumy od 10 do 0 blad bezwzgledny:\",blad_bezwzgledny(math.e, e(10,-1)),\"; blad wzgledny:\",blad_wzgledny(math.e, e(0,10))) \n",
    "\n",
    "#Gdy sumujemy od wartości najwiejszej do namniejszej to wartość błędu bezwzględnego jest różna od siebie, zaś wartość błędu względnego jest taka sama"
   ]
  },
  {
   "cell_type": "markdown",
   "metadata": {},
   "source": [
    "Błędy powstałe w tym zadaniu są to blędy obciecią. Powstaje on kiedy ograniczamy nieskończony ciag wymaganych obliczeń do skończonej liczby działań."
   ]
  },
  {
   "cell_type": "markdown",
   "metadata": {},
   "source": [
    "Zadanie 4."
   ]
  },
  {
   "cell_type": "code",
   "execution_count": 11,
   "metadata": {
    "scrolled": false
   },
   "outputs": [
    {
     "name": "stdout",
     "output_type": "stream",
     "text": [
      "Znalazłem!\n",
      "Dla i= -52.0 , gdzie b=2^i wyrażenie a+b-a-b= 0.0\n",
      "Dla i= -53.0 , gdzie b=2^i wyrażenie a+b-a-b= -1.1102230246251565e-16\n",
      "\n",
      "Znaleziona wartość b = 1.1102230246251565e-16\n"
     ]
    }
   ],
   "source": [
    "a = 1.0\n",
    "i = 0.0\n",
    "\n",
    "b=pow(2,i)    \n",
    "while (a+b-a-b)==0:\n",
    "    b=pow(2,i)\n",
    "    i-=1.0\n",
    "    \n",
    "print(\"Znalazłem!\")\n",
    "i+=2\n",
    "b=pow(2,i)\n",
    "print(\"Dla i=\",i,\", gdzie b=2^i wyrażenie a+b-a-b=\",(a+b-a-b))\n",
    "i-=1\n",
    "b=pow(2,i)\n",
    "print(\"Dla i=\",i,\", gdzie b=2^i wyrażenie a+b-a-b=\",(a+b-a-b))\n",
    "    \n",
    "print(\"\\nZnaleziona wartość b =\",b) "
   ]
  },
  {
   "cell_type": "markdown",
   "metadata": {},
   "source": [
    "Mantysa tej liczby wynosi 52.\n",
    "Występuje tutaj błąd zaokrąglenia, ponieważ w Pythonie (komputerze) występuje skończona liczba cyfr (bitów) w reprezentacji numerycznej. Stosując zapis zmienno przecinkowy tracimy dokładność (precyzję)."
   ]
  },
  {
   "cell_type": "markdown",
   "metadata": {},
   "source": [
    "Zadanie 5."
   ]
  },
  {
   "cell_type": "code",
   "execution_count": 12,
   "metadata": {},
   "outputs": [
    {
     "name": "stdout",
     "output_type": "stream",
     "text": [
      "3.1415916986585986\n"
     ]
    }
   ],
   "source": [
    "pi = lambda n: (6*(sum(1/i**2 for i in range(1,n))))**(1/2)\n",
    "\n",
    "print(pi(999999))"
   ]
  },
  {
   "cell_type": "markdown",
   "metadata": {},
   "source": [
    "Spotykamy się tutaj z błędami:\n",
    "* obcięcia, które powstają kiedy ograniczamy nieskończony ciag wymaganych obliczeń do skończonej liczby działań.\n",
    "* zaokrągleń, które pojawiają się podczas obliczeń na skutek konieczności zaokrąglania obliczonych wartości ze względu na ograniczenia komputera (np. dla n=3 1/(3^2)=0.(1))"
   ]
  }
 ],
 "metadata": {
  "kernelspec": {
   "display_name": "Python 3",
   "language": "python",
   "name": "python3"
  },
  "language_info": {
   "codemirror_mode": {
    "name": "ipython",
    "version": 3
   },
   "file_extension": ".py",
   "mimetype": "text/x-python",
   "name": "python",
   "nbconvert_exporter": "python",
   "pygments_lexer": "ipython3",
   "version": "3.7.0"
  }
 },
 "nbformat": 4,
 "nbformat_minor": 2
}
