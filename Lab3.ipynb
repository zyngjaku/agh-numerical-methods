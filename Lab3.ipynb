{
 "cells": [
  {
   "cell_type": "markdown",
   "metadata": {},
   "source": [
    "# <center>Laboratorium 3 <br>Metody Numeryczne<br>Poszukiwanie Miejsc Zerowych</center>"
   ]
  },
  {
   "cell_type": "markdown",
   "metadata": {},
   "source": [
    "<b>Instrukcja</b>  \n",
    "Sprawozdanie należy wykonać w środowisku [Jupyter Notebook](https://jupyter-notebook.readthedocs.io/en/stable/) i przesłać na platformę moodle."
   ]
  },
  {
   "cell_type": "markdown",
   "metadata": {},
   "source": [
    "<b>Zagadnienia</b>  \n",
    "* Twierdzenie o wartości średniej\n",
    "* Metody iteracyjne i ich zbieżność   \n",
    "Mówimy że metoda jest rzędu $p$, gdy $ \\lim_{k \\to \\inf} \\frac{|{\\epsilon_{k+1}}|}{|{\\epsilon_k}|^p} = c$, dla ${\\epsilon_k}=x_{k+1}-x_k$.\n",
    " - gdy $p=1$ mówimy że metoda jest zbieżna liniowo.\n",
    " - gdy $p=2$ mówimy że metoda jest zbieżna kwadratowo,  \n",
    " - gdy $p>1 \\land p<2$ mówimy że metoda jest zbieżna superliniowo.  \n",
    "\n",
    "* Metoda Bisekcji\n",
    "* Metoda Newtona-Raphson'a\n",
    "* Metoda Siecznych"
   ]
  },
  {
   "cell_type": "markdown",
   "metadata": {},
   "source": [
    "W poniższych zadaniach rozważana będzie funkcja:   \n",
    "$ f(x) = \\textrm{e}^{-2x} + x^2 - 1 $  \n"
   ]
  },
  {
   "cell_type": "markdown",
   "metadata": {},
   "source": [
    "***Zadanie 1.*** "
   ]
  },
  {
   "cell_type": "markdown",
   "metadata": {},
   "source": [
    "Korzystając z pakietu matplotlib wykonaj wykresy funkcji $f$ oraz jej pierwszej i drugiej pochodnej, wszystkie trzy wykresy zamieść na jednym rysunku. Niezapomnij o podipsaniu osi i utworzeniu legendy. Na podstawie wykresów oszacuj wartości pierwiastków równania $f(x)=0$ oraz wyznacz odpowiednie przedziały dla metod bisekcji, siecznych i Newtona-Raphson'a (stycznych)."
   ]
  },
  {
   "cell_type": "markdown",
   "metadata": {},
   "source": [
    "***Zadanie 2.*** \n"
   ]
  },
  {
   "cell_type": "markdown",
   "metadata": {},
   "source": [
    "1. Napisz własną funkcję poszukującą miejsc zerowych metodą bisekcji. Metoda powinna przyjmować jako argumenty: funkcję, której pierwiastka poszukujemy, punkty krańcowe przedziału początkowego, zadaną dokładność i maksymalną liczbę iteracji. Poza pierwiastkiem funkcja powinna zwracać ilość wykonanych iteracji.\n",
    "2. Wypisz warunki wystarczające zbieżności metody w przedziale izolacji pierwiastka.\n",
    "3. Korzystając z własnej implementacji znajdź miejsce zerowe funkcji $f$ z warunkiem stopu: $|x_{k+1} - x_{k}| \\leq 10^{-10}$.\n",
    "4. Porównaj rezultat oraz czas działania z metodą *bisect* z pakietu [scipy](https://docs.scipy.org/doc/scipy-0.14.0/reference/generated/scipy.optimize.bisect.html). Do pomiaru czasu możesz wykorzystać pakiet [time](https://docs.python.org/3/library/time.html)."
   ]
  },
  {
   "cell_type": "markdown",
   "metadata": {},
   "source": [
    "***Zadanie 3.*** \n",
    "\n"
   ]
  },
  {
   "cell_type": "markdown",
   "metadata": {},
   "source": [
    "1. Napisz własną funkcję poszukującą miejsc zerowych metodą stycznych (Newtona-Raphsona). Metoda powinna przyjmować jako argumenty: funkcję, której pierwiastka poszukujemy, jej pochodną, punkty startowy, zadaną dokładność i maksymalną liczbę iteracji. Poza pierwiastkiem funkcja powinna zwracać ilość wykonanych iteracji.\n",
    "2. Wypisz warunki wystarczające zbieżności metody dla ustalonego punktu startowego.\n",
    "3. Korzystając z własnej implementacji znajdź miejsce zerowe funkcji $f$ z warunkiem stopu: $|x_{k+1} - x_{k}| \\leq 10^{-10}$.\n",
    "4. Porównaj rezultat oraz czas działania z metodą *newton* z pakietu [scipy](https://docs.scipy.org/doc/scipy/reference/generated/scipy.optimize.newton.html)."
   ]
  },
  {
   "cell_type": "markdown",
   "metadata": {},
   "source": [
    "***Zadanie 4.*** "
   ]
  },
  {
   "cell_type": "markdown",
   "metadata": {},
   "source": [
    "1. Napisz własną funkcję poszukującą miejsc zerowych metodą siecznych. Metoda powinna przyjmować jako argumenty: funkcję, której pierwiastka poszukujemy, punkty startowy, zadaną dokładność i maksymalną liczbę iteracji. Poza pierwiastkiem funkcja powinna zwracać ilość wykonanych iteracji.\n",
    "2. Wypisz warunki wystarczające zbieżności metody dla ustalonego punktu startowego.\n",
    "3. Korzystając z własnej implementacji znajdź miejsce zerowe funkcji $f$  z warunkiem stopu: $|x_{k+1} - x_{k}| \\leq 10^{-10}$.\n",
    "4. Porównaj rezultat oraz czas działania z metodą *newton* z pakietu [scipy](https://docs.scipy.org/doc/scipy/reference/generated/scipy.optimize.newton.html).\n",
    "5. Porównaj liczbę iteracji i czas obliczeń dla wszystkich przeanalizowanych powyżej metod."
   ]
  },
  {
   "cell_type": "code",
   "execution_count": null,
   "metadata": {},
   "outputs": [],
   "source": []
  }
 ],
 "metadata": {
  "kernelspec": {
   "display_name": "Python 3",
   "language": "python",
   "name": "python3"
  },
  "language_info": {
   "codemirror_mode": {
    "name": "ipython",
    "version": 3
   },
   "file_extension": ".py",
   "mimetype": "text/x-python",
   "name": "python",
   "nbconvert_exporter": "python",
   "pygments_lexer": "ipython3",
   "version": "3.7.0"
  }
 },
 "nbformat": 4,
 "nbformat_minor": 2
}
