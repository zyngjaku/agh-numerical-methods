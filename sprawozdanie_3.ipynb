{
 "cells": [
  {
   "cell_type": "markdown",
   "metadata": {},
   "source": [
    "    Sprawozdanie 3.          EAIiIB, Informatyka, Metody Numeryczne          Jakub Zyngier"
   ]
  },
  {
   "cell_type": "markdown",
   "metadata": {},
   "source": [
    "Zadanie 1."
   ]
  },
  {
   "cell_type": "code",
   "execution_count": 10,
   "metadata": {
    "scrolled": true
   },
   "outputs": [
    {
     "data": {
      "image/png": "[encoded data removed]",
      "text/plain": [
       "<Figure size 432x288 with 1 Axes>"
      ]
     },
     "metadata": {
      "needs_background": "light"
     },
     "output_type": "display_data"
    },
    {
     "data": {
      "image/png": "[encoded data removed]",
      "text/plain": [
       "<Figure size 432x288 with 1 Axes>"
      ]
     },
     "metadata": {
      "needs_background": "light"
     },
     "output_type": "display_data"
    },
    {
     "name": "stdout",
     "output_type": "stream",
     "text": [
      "Przedział dla bisekcji a=-2 i b=0.5 oraz a=0.5 i b=2\n",
      "Przedział dla Newtona a=-1 oraz a=0.5\n",
      "Przedział dla siecznych a=-2 i b=0.5 oraz a=0.5 i b=2\n"
     ]
    }
   ],
   "source": [
    "import numpy as np\n",
    "import math\n",
    "import matplotlib.pyplot as plt\n",
    "\n",
    "def y1(t): \n",
    "    return math.e**(-2*t)+t**2-1\n",
    "\n",
    "def y2(t): \n",
    "    return 2*t-2*math.e**(-2*t)\n",
    "\n",
    "def y3(t): \n",
    "    return 2+4*math.e**(-2*t)\n",
    "\n",
    "t = np.linspace(-1, 5)\n",
    "\n",
    "plt.plot(t, [y1(i) for i in t], 'r', label=\"f(x)\")\n",
    "plt.plot(t, [y2(i) for i in t], 'b', label=\"f'(x)\")\n",
    "plt.plot(t, [y3(i) for i in t], 'g', label=\"f''(x)\")\n",
    "plt.legend()\n",
    "plt.show()\n",
    "\n",
    "t = np.linspace(-0.1, 1)\n",
    "plt.plot(t, [y1(i) for i in t], 'r', label=\"f(x)\")\n",
    "plt.plot(t, [y2(i) for i in t], 'b', label=\"f'(x)\")\n",
    "plt.plot(t, [y3(i) for i in t], 'g', label=\"f''(x)\")\n",
    "plt.grid(b=None, axis='y')\n",
    "plt.legend()\n",
    "plt.show()\n",
    "\n",
    "print(\"Przedział dla bisekcji a=-2 i b=0.5 oraz a=0.5 i b=2\")\n",
    "print(\"Przedział dla Newtona a=-1 oraz a=0.5\")\n",
    "print(\"Przedział dla siecznych a=-2 i b=0.5 oraz a=0.5 i b=2\")"
   ]
  },
  {
   "cell_type": "markdown",
   "metadata": {},
   "source": [
    "Zadanie 2."
   ]
  },
  {
   "cell_type": "code",
   "execution_count": 93,
   "metadata": {},
   "outputs": [
    {
     "name": "stdout",
     "output_type": "stream",
     "text": [
      "\n",
      "Bisekcja /własna funkcja/:\n",
      "-5.2386888416987834e-11 , 35  otrzymany w czasie: 0.00014408500010176795 sek\n",
      "0.9165625830355566 , 35  otrzymany w czasie: 0.00013342700003704522 sek\n",
      "\n",
      "Bisekcja /funkcja wpudowana/:\n",
      "4.547473508864641e-13  otrzymany w czasie: 8.921399967221078e-05 sek\n",
      "0.9165625831051329  otrzymany w czasie: 7.224000000860542e-05 sek\n"
     ]
    }
   ],
   "source": [
    "import time\n",
    "import math\n",
    "from scipy import optimize\n",
    "\n",
    "\n",
    "def y1(t): \n",
    "    return math.e**(-2*t)+t**2-1\n",
    "\n",
    "def bisekcja(f, poczatek, koniec, epsilon, max_iteracji):\n",
    "    epsilon = abs(epsilon)\n",
    "    max_interacji_tmp = max_iteracji\n",
    "    \n",
    "    if f(poczatek) == 0:\n",
    "        return poczatek, 1\n",
    "    elif f(koniec) == 0:\n",
    "        return koniec, 1\n",
    "    elif f(poczatek)*f(koniec)<0:\n",
    "        while (koniec-poczatek) >= epsilon and max_interacji_tmp>0:\n",
    "            pierwiastek = (koniec + poczatek) / 2.0 \n",
    "            if f(poczatek)*f(pierwiastek)<0:\n",
    "                koniec = pierwiastek         \n",
    "            elif f(pierwiastek)*f(koniec)<0: \n",
    "                poczatek = pierwiastek          \n",
    "            else:\n",
    "                break    \n",
    "            max_interacji_tmp-=1\n",
    "            \n",
    "            if max_interacji_tmp==0:\n",
    "                return \"Przekroczono liczbe iteracji\", max_iteracji\n",
    "    else:\n",
    "        return (\"f(a) i f(b) muszą być różnych znaków!\"), 1\n",
    "       \n",
    "    return pierwiastek, (max_iteracji-max_interacji_tmp+1)\n",
    "\n",
    "print(\"\")\n",
    "print(\"Bisekcja /własna funkcja/:\")\n",
    "\n",
    "start_time = time.perf_counter()\n",
    "pierwiastek_m_11, iteracje = bisekcja(y1, -1, 0.3, 10**(-10), 100)\n",
    "time_m_11 = (time.perf_counter() - start_time)\n",
    "\n",
    "print(pierwiastek_m_11, \",\", iteracje ,\" otrzymany w czasie: %s sek\" % time_m_11)\n",
    "\n",
    "start_time = time.perf_counter()\n",
    "pierwiastek_m_12, iteracje = bisekcja(y1, 0.5, 2, 10**(-10), 100)\n",
    "time_m_12 = (time.perf_counter() - start_time)\n",
    "\n",
    "print(pierwiastek_m_12, \",\", iteracje ,\" otrzymany w czasie: %s sek\" % time_m_12)\n",
    "\n",
    "print(\"\")\n",
    "print(\"Bisekcja /funkcja wpudowana/:\")\n",
    "\n",
    "start_time = time.perf_counter()\n",
    "pierwiastek_w_11 = optimize.bisect(y1, -1, 0.5)\n",
    "time_w_11 = (time.perf_counter() - start_time)\n",
    "\n",
    "print(pierwiastek_w_11 ,\" otrzymany w czasie: %s sek\" % time_w_11)\n",
    "\n",
    "start_time = time.perf_counter()\n",
    "pierwiastek_w_12 = optimize.bisect(y1, 0.5, 2)\n",
    "time_w_12 = (time.perf_counter() - start_time)\n",
    "\n",
    "print(pierwiastek_w_12 ,\" otrzymany w czasie: %s sek\" % time_w_12)"
   ]
  },
  {
   "cell_type": "markdown",
   "metadata": {},
   "source": [
    "Zadanie 3."
   ]
  },
  {
   "cell_type": "code",
   "execution_count": 31,
   "metadata": {
    "scrolled": true
   },
   "outputs": [
    {
     "name": "stdout",
     "output_type": "stream",
     "text": [
      "\n",
      "Styczne (Newtona-Raphsona) /własna funkcja/:\n",
      "-5.753992934998626e-18 , 7  otrzymany w czasie: 0.00021316599998044694 sek\n",
      "0.9165625831138303 , 6  otrzymany w czasie: 0.00017645499997342995 sek\n",
      "\n",
      "Newton /funkcja wpudowana/:\n",
      "-9.209436085819023e-18  otrzymany w czasie: 0.00018316500006676506 sek\n",
      "0.9165625831056979  otrzymany w czasie: 0.0001472430000148961 sek\n"
     ]
    }
   ],
   "source": [
    "import time\n",
    "import math\n",
    "from scipy import optimize\n",
    "\n",
    "def y1(t): \n",
    "    return math.e**(-2*t)+t**2-1\n",
    "\n",
    "def y2(t): \n",
    "    return 2*t-2*math.e**(-2*t)\n",
    "\n",
    "def styczne(f, f_prim, poczatek, epsilon, max_iteracji):\n",
    "    iteracje = max_iteracji;\n",
    "    if f(poczatek) == 0:\n",
    "        return poczatek, 1\n",
    "    else:\n",
    "        while abs(f(poczatek))>epsilon and iteracje>0:\n",
    "            poczatek = poczatek - f(poczatek)/f_prim(poczatek)\n",
    "            iteracje-=1\n",
    "            \n",
    "            if iteracje==0:\n",
    "                return \"Przekroczono liczbe iteracji\", max_iteracji\n",
    "            \n",
    "        return poczatek, (max_iteracji-iteracje)\n",
    "    \n",
    "    return \"Error\", 1\n",
    "\n",
    "print(\"\")\n",
    "print(\"Styczne (Newtona-Raphsona) /własna funkcja/:\")\n",
    "start_time = time.perf_counter()\n",
    "pierwiastek_m_21, iteracje = styczne(y1, y2, -1, 10**(-10), 100)\n",
    "time_m_21 = (time.perf_counter() - start_time)\n",
    "\n",
    "print(pierwiastek_m_21, \",\", iteracje ,\" otrzymany w czasie: %s sek\" % time_m_21)\n",
    "\n",
    "start_time = time.perf_counter()\n",
    "pierwiastek_m_22, iteracje = styczne(y1, y2, 0.5, 10**(-10), 100)\n",
    "time_m_22 = (time.perf_counter() - start_time)\n",
    "\n",
    "print(pierwiastek_m_22, \",\", iteracje ,\" otrzymany w czasie: %s sek\" % time_m_22)\n",
    "\n",
    "print(\"\")\n",
    "print(\"Newton /funkcja wpudowana/:\")\n",
    "\n",
    "start_time = time.perf_counter()\n",
    "pierwiastek_w_21 = optimize.newton(y1, -1)\n",
    "time_w_21 = (time.perf_counter() - start_time)\n",
    "\n",
    "print(pierwiastek_w_21 ,\" otrzymany w czasie: %s sek\" % time_w_21)\n",
    "\n",
    "start_time = time.perf_counter()\n",
    "pierwiastek_w_22 = optimize.newton(y1, 0.5)\n",
    "time_w_22 = (time.perf_counter() - start_time)\n",
    "\n",
    "print(pierwiastek_w_22 ,\" otrzymany w czasie: %s sek\" % time_w_22)"
   ]
  },
  {
   "cell_type": "markdown",
   "metadata": {},
   "source": [
    "Zadanie 4."
   ]
  },
  {
   "cell_type": "code",
   "execution_count": 91,
   "metadata": {
    "scrolled": true
   },
   "outputs": [
    {
     "name": "stdout",
     "output_type": "stream",
     "text": [
      "\n",
      "Sieczne /własna funkcja/:\n",
      "1.7861059944833443e-17 , 9  otrzymany w czasie: 0.00011566300008780672 sek\n",
      "0.9165625831056982 , 9  otrzymany w czasie: 9.829300006458652e-05 sek\n",
      "\n",
      "Newton /funkcja wpudowana/:\n",
      "-9.209436085819023e-18  otrzymany w czasie: 0.00010816200028784806 sek\n",
      "0.9165625831056979  otrzymany w czasie: 0.00013500500017471495 sek\n"
     ]
    }
   ],
   "source": [
    "import math\n",
    "import time\n",
    "from scipy import optimize\n",
    "\n",
    "def y1(t): \n",
    "    return math.e**(-2*t)+t**2-1\n",
    "\n",
    "def sieczne(f, poczatek, poczatek_2, epsilon, max_iteracji):\n",
    "    iteracje = max_iteracji-1;\n",
    "    if f(poczatek) == 0:\n",
    "        return poczatek, 1\n",
    "    elif f(poczatek_2) == 0:\n",
    "        return poczatek_2, 1\n",
    "    else:\n",
    "        while iteracje>0 and abs(poczatek-poczatek_2)>epsilon:\n",
    "            if abs(f(poczatek)-f(poczatek_2))<epsilon:\n",
    "                return \"Zle punkty startowe\", max_iteracji-iteracje\n",
    "            x=poczatek-f(poczatek)*((poczatek-poczatek_2)/(f(poczatek)-f(poczatek_2)))\n",
    "            if abs(abs(x - poczatek)<epsilon):\n",
    "                return x, (max_iteracji-iteracje)\n",
    "            \n",
    "            poczatek_2, poczatek = poczatek, x\n",
    "            \n",
    "            iteracje-=1\n",
    "    \n",
    "            if iteracje==0:\n",
    "                return \"Przekroczona liczba obiegów\", max_iteracji\n",
    "    \n",
    "        return poczatek, (max_iteracji-iteracje)\n",
    "            \n",
    "    \n",
    "    return \"Error\", 1\n",
    "\n",
    "print(\"\")\n",
    "print(\"Sieczne /własna funkcja/:\")\n",
    "\n",
    "start_time = time.perf_counter()\n",
    "pierwiastek_m_31, iteracje = sieczne(y1, -0.5, 0.3, 10**(-10), 100)\n",
    "time_m_31 = (time.perf_counter() - start_time)\n",
    "\n",
    "print(pierwiastek_m_31, \",\", iteracje ,\" otrzymany w czasie: %s sek\" % time_w_31)\n",
    "\n",
    "start_time = time.perf_counter()\n",
    "pierwiastek_m_32, iteracje = sieczne(y1, 0.5, 2, 10**(-10), 100)\n",
    "time_m_32 = (time.perf_counter() - start_time)\n",
    "\n",
    "print(pierwiastek_m_32, \",\", iteracje ,\" otrzymany w czasie: %s sek\" % time_w_32)\n",
    "\n",
    "print(\"\")\n",
    "print(\"Newton /funkcja wpudowana/:\")\n",
    "\n",
    "start_time = time.perf_counter()\n",
    "pierwiastek_w_31 = optimize.newton(y1, -1)\n",
    "time_w_31 = (time.perf_counter() - start_time)\n",
    "\n",
    "print(pierwiastek_w_31 ,\" otrzymany w czasie: %s sek\" % time_w_31)\n",
    "\n",
    "start_time = time.perf_counter()\n",
    "pierwiastek_w_31 = optimize.newton(y1, 0.5)\n",
    "time_w_32 = (time.perf_counter() - start_time)\n",
    "\n",
    "print(pierwiastek_w_31 ,\" otrzymany w czasie: %s sek\" % time_w_32)"
   ]
  },
  {
   "cell_type": "code",
   "execution_count": 94,
   "metadata": {},
   "outputs": [
    {
     "name": "stdout",
     "output_type": "stream",
     "text": [
      "Porównanie powyższych metod\n",
      "\t\t\t czas\t\twynik\t\t\t czas2\t\t wynik2\n",
      "bisekcji (własna)\t 0.00014409    -5.2386888416987834e-11 \t 0.00013343 \t 0.9165625830355566\n",
      "bisect (wbudowana)\t 8.921e-05      4.547473508864641e-13 \t 7.224e-05 \t 0.9165625831051329\n",
      "statycznych (własna)\t 0.00021317    -5.753992934998626e-18 \t 0.00017645 \t 0.9165625831138303\n",
      "newton (wbudowana)\t 0.00018317    -9.209436085819023e-18 \t 0.00014724 \t 0.9165625831056979\n",
      "siecznych (własna)\t 0.00017448     1.7861059944833443e-17 \t 0.00015908 \t 0.9165625831056982\n"
     ]
    }
   ],
   "source": [
    "liczbaMiejscPoPrzecinku = 8;\n",
    "print(\"Porównanie powyższych metod\")\n",
    "print(\"\\t\\t\\t czas\\t\\twynik\\t\\t\\t czas2\\t\\t wynik2\")\n",
    "print(\"bisekcji (własna)\\t\",round(time_m_11,liczbaMiejscPoPrzecinku),\"  \",pierwiastek_m_11,\"\\t\",round(time_m_12,liczbaMiejscPoPrzecinku),\"\\t\",pierwiastek_m_12)\n",
    "print(\"bisect (wbudowana)\\t\",round(time_w_11,liczbaMiejscPoPrzecinku),\"    \",pierwiastek_w_11,\"\\t\",round(time_w_12,liczbaMiejscPoPrzecinku),\"\\t\",pierwiastek_w_12)\n",
    "print(\"statycznych (własna)\\t\",round(time_m_21,liczbaMiejscPoPrzecinku),\"  \",pierwiastek_m_21,\"\\t\",round(time_m_22,liczbaMiejscPoPrzecinku),\"\\t\",pierwiastek_m_22)\n",
    "print(\"newton (wbudowana)\\t\",round(time_w_21,liczbaMiejscPoPrzecinku),\"  \",pierwiastek_w_21,\"\\t\",round(time_w_22,liczbaMiejscPoPrzecinku),\"\\t\",pierwiastek_w_22)\n",
    "print(\"siecznych (własna)\\t\",round(time_m_31,liczbaMiejscPoPrzecinku),\"   \",pierwiastek_m_31,\"\\t\",round(time_m_32,liczbaMiejscPoPrzecinku),\"\\t\",pierwiastek_m_32)"
   ]
  },
  {
   "cell_type": "code",
   "execution_count": null,
   "metadata": {},
   "outputs": [],
   "source": []
  }
 ],
 "metadata": {
  "kernelspec": {
   "display_name": "Python 3",
   "language": "python",
   "name": "python3"
  },
  "language_info": {
   "codemirror_mode": {
    "name": "ipython",
    "version": 3
   },
   "file_extension": ".py",
   "mimetype": "text/x-python",
   "name": "python",
   "nbconvert_exporter": "python",
   "pygments_lexer": "ipython3",
   "version": "3.7.0"
  }
 },
 "nbformat": 4,
 "nbformat_minor": 2
}
