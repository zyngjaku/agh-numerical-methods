{
 "cells": [
  {
   "cell_type": "markdown",
   "metadata": {},
   "source": [
    "# <center>Laboratorium 5<br>Metody Numeryczne<br>Układy równań liniowych</center>"
   ]
  },
  {
   "cell_type": "markdown",
   "metadata": {},
   "source": [
    "***Zadanie 1***   \n",
    "Rozwiąż analitycznie poniższy układ równań dla $i = 1, 2$. Jak zmienia się rozwiązanie wraz ze zmianą wektora prawych stron? Oblicz współczynnik uwarunkowania macierzy $A$.<br>\n",
    "$Ax = b_i$,<br>\n",
    "$A = \\left[\\begin{matrix}\n",
    "1 & 1 \\\\\n",
    "1 & 1.0001\\\\\n",
    "\\end{matrix}\\right]$,\n",
    "$b_1 = \\left[\\begin{matrix}\n",
    "2 \\\\\n",
    "2.0001 \\\\\n",
    "\\end{matrix}\\right]$,\n",
    "$b_2 = \\left[\\begin{matrix}\n",
    "2 \\\\\n",
    "2 \\\\\n",
    "\\end{matrix}\\right]$.<br>"
   ]
  },
  {
   "cell_type": "markdown",
   "metadata": {},
   "source": [
    "***Zadanie 2***  \n",
    "Dana jest macierz Hilberta o wymiarach $8 \\times 8$. Oblicz współczynniki uwarunkowania macierzy korzystając\n",
    "z normy kolumnowej, spektralnej oraz wierszowej. Co na ich podstawie można powiedzieć o uwarunkowaniu tej macierzy?   \n",
    "**Wskazówka:** Elementy macierzy Hilberta są określone przez wzór $h_{i,j}=\\frac{1}{i+j-1}$."
   ]
  },
  {
   "cell_type": "markdown",
   "metadata": {},
   "source": [
    "***Zadanie 3***<br>\n",
    "Dane jest $n = 20$. Używając funkcji <i>linspace</i> zdefiniuj wektor $t =\\left[\\begin{matrix} t_0 & \\ldots & t_{n-1}\\end{matrix}\\right]^T$, którego wartości należą do przedziału $[0,1]$ oraz wektor $b =\\left[\\begin{matrix}\n",
    "\\cos(4t_0) & \\ldots & \\cos(4t_{n-1})\\end{matrix}\\right]^T$. Następnie wygeneruj macierz $A$ daną wzorem:\n",
    "\n",
    "$\\left[\\begin{matrix}\n",
    "1 & t_0 & t_{0}^{2} & \\cdots & t_{0}^{n-1} \\\\\n",
    "1 & t_1 & t_{1}^{2} & \\cdots & t_{1}^{n-1} \\\\\n",
    "1 & t_2 & t_{2}^{2} & \\cdots & t_{2}^{n-1} \\\\\n",
    "\\vdots & \\vdots & \\vdots & \\ddots & \\vdots \\\\\n",
    "1 & t_{n-1} & t_{n-1}^{2} & \\cdots & t_{m-1}^{n-1} \n",
    "\\end{matrix}\\right]$\n",
    "  \n",
    "**Wskazówka**: Do definicji macierzy $A$ można użyć funkcji [vander](https://docs.scipy.org/doc/numpy-1.13.0/reference/generated/numpy.vander.html) oraz [fliplr](https://docs.scipy.org/doc/numpy-1.15.0/reference/generated/numpy.fliplr.html).  \n",
    "\n",
    "Rozwiąż układ równań $Ax=b$ za pomocą następujacych metod:\n",
    "1. Metody [solve](https://docs.scipy.org/doc/numpy/reference/generated/numpy.linalg.solve.html) z pakietu numpy.\n",
    "2. Metody rozkładu QR rozwiązywania układów równań. Do dokonania rozkładu QR w Pythonie używa się funkcji [qr](https://docs.scipy.org/doc/numpy-1.15.1/reference/generated/numpy.linalg.qr.html), natomiast do rozwiązywania układu równań z macierzą trójkątną służy funkcja [solve_triangular](https://docs.scipy.org/doc/scipy/reference/generated/scipy.linalg.solve_triangular.html).\n",
    "3. Domyślnej dla Pythona metody rozwiązywania układów równań z macierzą prostokątną [lstsq](https://docs.scipy.org/doc/numpy-1.13.0/reference/generated/numpy.linalg.lstsq.html#numpy-linalg-lstsq). Sprawdź, jak ta metoda zachowuje się w przypadku układu z macierzą kwadratową.\n",
    "4. Porównaj czasy wykonania wszystkich metod ze sobą.\n",
    "5. <b>Porównaj jakość otrzymanych wyników</b>. Do porównania możesz zastosować np. normę $||r||$ gdzie $r$ zdefiniowane jest jako $r=b-Ax$ (tzw. residuum)."
   ]
  },
  {
   "cell_type": "markdown",
   "metadata": {},
   "source": [
    "***Zadanie 4***  \n",
    "Wygeneruj macierz $A$ o wymiarach $500 \\times 500$ w następujący sposób:\n",
    "1. Umieść na głównej przekątnej liczbę 1.\n",
    "2. Pozostałe miejsca w macierzy uzupełnij liczbami z przedziału $[-1,1]$ tak by uzyskać macierz symetryczną ($A = A^{\\mathrm{T}}$).\n",
    "3. W opracowywanej macierzy zastąp zerem wszystkie wartości które spełniają warunek $|a_{ij}|> \\tau$, poza tymi które znajdują się na diagonalnej.\n",
    "\n",
    "**Wskazówka:** Do szybkiej konstrukcji macierzy $A$ można wykorzystać funkcje: [ones](https://docs.scipy.org/doc/numpy-1.15.1/reference/generated/numpy.ones.html), [diag](https://docs.scipy.org/doc/numpy-1.15.1/reference/generated/numpy.diag.html?highlight=diag#numpy.diag), [uniform](https://docs.scipy.org/doc/numpy-1.15.1/reference/generated/numpy.random.uniform.html?highlight=uniform#numpy.random.uniform), [tril](https://docs.scipy.org/doc/numpy-1.13.0/reference/generated/numpy.tril.html), [logical_not](https://docs.scipy.org/doc/numpy-1.15.1/reference/generated/numpy.logical_not.html?highlight=logical_not#numpy.logical_not)\n",
    "\n",
    "Po wygenerowaniu macierzy $A$ wylosuj wektor $b$, którego wartości również należą do przedziału $[-1,1]$. Dla układu $Ax=b$ wykonaj następujące zadania:\n",
    "1. Sprawdź, jak zachowuje się współczynnik uwarunkowania macierzy w zależności od wartości $\\tau$, dla $\\tau \\in \\{ 0.01, 0.05, 0.1, 0.2, 0.5, 0.75\\}$. Narysuj wykres zależności współczynnika uwarunkowania macierzy od wartości $\\tau$.\n",
    "2. Dla wszystkich $\\tau$ rozwiąż układ równań przy pomocy funkcji: [solve](https://docs.scipy.org/doc/numpy/reference/generated/numpy.linalg.solve.html), [bicg](https://docs.scipy.org/doc/scipy/reference/generated/scipy.sparse.linalg.bicg.html) oraz [gmres](https://docs.scipy.org/doc/scipy/reference/generated/scipy.sparse.linalg.gmres.html). Na potrzeby dwóch ostatnich metod skorzysaj z funkcji [csr_matrix](https://docs.scipy.org/doc/scipy/reference/generated/scipy.sparse.csr_matrix.html#scipy.sparse.csr_matrix) w celu wygenerowania [macierzy rzadkich](https://pl.wikipedia.org/wiki/Macierz_rzadka) bazujących na macierzach $A$.\n",
    "3. Sprawdź, jak uwarunkowanie macierzy wpływa na jakość rozwiązania układu przez wszystkie metody oraz na czas ich wykonania. <b>Swoje obserwacje przedstaw na odpowiednich wykresach.</b>"
   ]
  },
  {
   "cell_type": "markdown",
   "metadata": {},
   "source": [
    "***Zadanie 5***<br>\n",
    "Zaimplementuj iteracyjną metodę Gaussa-Seidla rozwiązywania układów równań liniowych. W celu weryfikacji poprawności rozwiąż przy jej pomocy dowolny układ równań oraz porównaj otrzymany wynik z rezultatem metody [solve](https://docs.scipy.org/doc/numpy/reference/generated/numpy.linalg.solve.html). Dodatkowo rozwiąż przy jej pomocy poniższy układ równań i oceń jakość otrzymanego rozwiązania.<br>\n",
    "$Ax = b$,<br>\n",
    "$A = \\left[\\begin{matrix}\n",
    "1 & 2 & 3 \\\\\n",
    "2 & 1 & 3\\\\\n",
    "3 & 2 & 1 \\\\\n",
    "\\end{matrix}\\right]$,\n",
    "$b = \\left[\\begin{matrix}\n",
    "1 \\\\\n",
    "2 \\\\\n",
    "0 \\\\\n",
    "\\end{matrix}\\right]$."
   ]
  },
  {
   "cell_type": "code",
   "execution_count": null,
   "metadata": {},
   "outputs": [],
   "source": []
  }
 ],
 "metadata": {
  "kernelspec": {
   "display_name": "Python 3",
   "language": "python",
   "name": "python3"
  },
  "language_info": {
   "codemirror_mode": {
    "name": "ipython",
    "version": 3
   },
   "file_extension": ".py",
   "mimetype": "text/x-python",
   "name": "python",
   "nbconvert_exporter": "python",
   "pygments_lexer": "ipython3",
   "version": "3.7.0"
  }
 },
 "nbformat": 4,
 "nbformat_minor": 2
}
