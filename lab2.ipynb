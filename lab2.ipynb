{
 "cells": [
  {
   "cell_type": "markdown",
   "metadata": {
    "slideshow": {
     "slide_type": "notes"
    }
   },
   "source": [
    "# <center>Laboratorium 2<br>Metody Numeryczne</center>"
   ]
  },
  {
   "cell_type": "markdown",
   "metadata": {
    "slideshow": {
     "slide_type": "notes"
    }
   },
   "source": [
    "<b>Instrukcja:</b>  \n",
    "Sprawozdanie należy wykonać w środowisku [Jupyter Notebook](https://jupyter-notebook.readthedocs.io/en/stable/) i przesłać na platformę moodle."
   ]
  },
  {
   "cell_type": "markdown",
   "metadata": {
    "slideshow": {
     "slide_type": "notes"
    }
   },
   "source": [
    "<a id='zad1'></a>\n",
    "***Zadanie 1.***   \n",
    "Oblicz błąd względny i bezwzględny aproksymacji liczby $p$ przy pomocy $p^{*}$:\n",
    "  \n",
    "1. $p=\\pi,\\ p^{*}=\\frac{22}{7}$  \n",
    "2. $p=\\textrm{e},\\ p^{*}=2.718$  \n",
    "3. $p=10^{\\pi},\\ p^{*}=1397$  \n",
    "4. $p=9!,\\ p^{*}=\\sqrt{18\\pi}(\\frac{9}{\\textrm{e}})^9$  "
   ]
  },
  {
   "cell_type": "markdown",
   "metadata": {},
   "source": [
    "***Zadanie 2.***  \n",
    "Dany jest ciąg:  \n",
    "  \n",
    "$G(p)=\\cfrac{1}{p}\\left[10^{p}\\left(1+p\\pi \\cdot 10^{-p}\\right)-10^{p}\\right],\\ p=1,2,3,\\dots,n $\n",
    "  \n",
    "gdzie liczba $\\pi$ jest brana z dokładnością do 15 miejsc po przecinku. W tym celu należy użyć funkcji *[round](https://docs.scipy.org/doc/numpy-1.13.0/reference/generated/numpy.round_.html)*.\n",
    "  \n",
    "Napisz funkcję, która umożliwi obliczenie $n$ pierwszych wyrazów tego ciągu i zwróci je w postaci wektora. Analizując rozwiązania odpowiedz na następujące pytania:  \n",
    "1. Czy wartość $G(p)$ obliczona w sposób analityczny zależy od $p$?\n",
    "2. Oblicz błąd bezwzględny i względny otrzymanych wyników i przedstaw je na wykresie w zależności od $n$ - wartość błędu przedstaw w skali logarytmicznej.\n",
    "3. Jak zmienia się błąd w zależności od $n$ i co można stwierdzić na podstawie jego zachowania? \n",
    "4. Jaki rodzaj błędu tutaj występuje?"
   ]
  },
  {
   "cell_type": "markdown",
   "metadata": {},
   "source": [
    "***Zadanie 3.***  \n",
    "Liczbę $\\textrm{e}$ możemy zdefiniować jako $\\sum\\limits_{n=0}^{\\infty} \\frac{1}{n!}$. Oblicz błąd względny i bezwzględny aproksymacji liczby $\\textrm{e}$ poprzez $\\textrm{e}^{*}$ w przypadku gdy:  \n",
    "1. $\\textrm{e}^{*}=\\sum\\limits_{n=0}^{5} \\frac{1}{n!}$    \n",
    "2. $\\textrm{e}^{*}=\\sum\\limits_{n=0}^{10} \\frac{1}{n!}$  "
   ]
  },
  {
   "cell_type": "markdown",
   "metadata": {},
   "source": [
    "***Zadanie 4.***  \n",
    "Znajdź najmniejszą dodatnią wartość <i>b</i>, dla której poniższy kod wypisze poprawny wynik działania. Na tej podstawie określ liczbę bitów mantysy domyślnego typu zmiennoprzecinkowego w Pythonie. Z jakim rodzajem błędu numerycznego i na którym etapie mamy tu do czynienia?"
   ]
  },
  {
   "cell_type": "raw",
   "metadata": {
    "raw_mimetype": "text/x-python"
   },
   "source": [
    "a = 1.0\n",
    "b = ??\n",
    "print(a+b-a-b)"
   ]
  },
  {
   "cell_type": "markdown",
   "metadata": {},
   "source": [
    "***Zadanie 5.***  \n",
    "Wiedząc, że\n",
    "$\\begin{aligned}\n",
    "\\sum_{n=1}^{\\infty} \\cfrac{1}{n^2} = \\cfrac{1}{6} \\pi^2\n",
    "\\end{aligned}$,\n",
    "napisz jednolinijkowy kod w Pythonie obliczający przybliżenie liczby pi (nie korzystaj ze stałych <i>numpy.pi</i>, <i>math.pi</i> itp.). Z jakimi rodzajami błędów numerycznych mamy tu do czynienia?"
   ]
  },
  {
   "cell_type": "code",
   "execution_count": null,
   "metadata": {},
   "outputs": [],
   "source": []
  }
 ],
 "metadata": {
  "celltoolbar": "Raw Cell Format",
  "kernelspec": {
   "display_name": "Python 3",
   "language": "python",
   "name": "python3"
  },
  "language_info": {
   "codemirror_mode": {
    "name": "ipython",
    "version": 3
   },
   "file_extension": ".py",
   "mimetype": "text/x-python",
   "name": "python",
   "nbconvert_exporter": "python",
   "pygments_lexer": "ipython3",
   "version": "3.6.5"
  }
 },
 "nbformat": 4,
 "nbformat_minor": 2
}
