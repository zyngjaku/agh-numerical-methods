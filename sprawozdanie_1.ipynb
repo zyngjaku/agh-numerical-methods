{
 "cells": [
  {
   "cell_type": "markdown",
   "metadata": {},
   "source": [
    "    Sprawozdanie 1.          EAIiIB, Informatyka, Metody Numeryczne          Jakub Zyngier"
   ]
  },
  {
   "cell_type": "raw",
   "metadata": {},
   "source": [
    "Zadanie 1."
   ]
  },
  {
   "cell_type": "code",
   "execution_count": 29,
   "metadata": {},
   "outputs": [],
   "source": [
    "import math\n",
    "\n",
    "k=1240*math.sqrt(7)     # float\n",
    "m=4467                  # int\n",
    "l=2j                    # complex\n",
    "d=k+m                   # float\n",
    "c=d+l                   # complex"
   ]
  },
  {
   "cell_type": "markdown",
   "metadata": {},
   "source": [
    "Zadanie 2."
   ]
  },
  {
   "cell_type": "code",
   "execution_count": 30,
   "metadata": {
    "scrolled": false
   },
   "outputs": [
    {
     "name": "stdout",
     "output_type": "stream",
     "text": [
      "7747.731625720093\n",
      "7747.73\n",
      "7747.73162572009277937468\n"
     ]
    }
   ],
   "source": [
    "print(d)\n",
    "print(\"%.2f\" % d)\n",
    "print(\"%.20f\" % d)"
   ]
  },
  {
   "cell_type": "markdown",
   "metadata": {},
   "source": [
    "Zadanie 3."
   ]
  },
  {
   "cell_type": "code",
   "execution_count": 31,
   "metadata": {},
   "outputs": [
    {
     "name": "stdout",
     "output_type": "stream",
     "text": [
      "5340.707511102649\n"
     ]
    }
   ],
   "source": [
    "r=17\n",
    "h=33\n",
    "\n",
    "pole=2*math.pi*r*(r+h)\n",
    "print(pole)"
   ]
  },
  {
   "cell_type": "markdown",
   "metadata": {},
   "source": [
    "Zadanie 4."
   ]
  },
  {
   "cell_type": "code",
   "execution_count": 32,
   "metadata": {},
   "outputs": [
    {
     "data": {
      "text/plain": [
       "' \\nKomentarz\\n'"
      ]
     },
     "execution_count": 32,
     "metadata": {},
     "output_type": "execute_result"
    }
   ],
   "source": [
    "\"\"\" \n",
    "Komentarz\n",
    "\"\"\"\n",
    "\n",
    "#Inny komentarz"
   ]
  },
  {
   "cell_type": "markdown",
   "metadata": {},
   "source": [
    "Zadanie 5."
   ]
  },
  {
   "cell_type": "code",
   "execution_count": 33,
   "metadata": {
    "scrolled": true
   },
   "outputs": [
    {
     "name": "stdout",
     "output_type": "stream",
     "text": [
      "0.4700465838237791\n"
     ]
    }
   ],
   "source": [
    "x1=1\n",
    "t=1\n",
    "r=1\n",
    "\n",
    "B=((x1+r)/(r*math.sin(2*x1)+3.3456))*x1**(t*r)\n",
    "print(B)"
   ]
  },
  {
   "cell_type": "markdown",
   "metadata": {},
   "source": [
    "Zadanie 6."
   ]
  },
  {
   "cell_type": "code",
   "execution_count": 3,
   "metadata": {},
   "outputs": [
    {
     "name": "stdout",
     "output_type": "stream",
     "text": [
      "Macierz M:\n",
      "[[ 1.41421356  1.         -1.41421356]\n",
      " [ 0.          1.          1.        ]\n",
      " [-1.41421356  1.41421356  1.        ]]\n",
      "\n",
      "M odwrotna (M^-1):\n",
      "[[ 0.10355339  0.75       -0.60355339]\n",
      " [ 0.35355339  0.14644661  0.35355339]\n",
      " [-0.35355339  0.85355339 -0.35355339]]\n",
      "\n",
      "M transponowana:\n",
      "[[ 1.41421356  0.         -1.41421356]\n",
      " [ 1.          1.          1.41421356]\n",
      " [-1.41421356  1.          1.        ]]\n",
      "\n",
      "det(M): -4.0\n"
     ]
    }
   ],
   "source": [
    "import numpy as np\n",
    "import math\n",
    "\n",
    "a = math.sqrt(2)\n",
    "M = np.array([[a, 1, -a],[0, 1, 1],[-a, a, 1]])\n",
    "M_inv = np.linalg.inv(M)\n",
    "M_t = np.transpose(M)\n",
    "M_det = np.linalg.det(M)\n",
    "\n",
    "print(\"Macierz M:\\n{0}\".format(M))\n",
    "print(\"\\nM odwrotna (M^-1):\\n{0}\".format(M_inv))\n",
    "print(\"\\nM transponowana:\\n{0}\".format(M_t))\n",
    "print(\"\\ndet(M):\",M_det)"
   ]
  },
  {
   "cell_type": "markdown",
   "metadata": {},
   "source": [
    "Zadanie 7."
   ]
  },
  {
   "cell_type": "code",
   "execution_count": 35,
   "metadata": {},
   "outputs": [
    {
     "name": "stdout",
     "output_type": "stream",
     "text": [
      "Element 1x1: 1.4142135623730951\n",
      "Element 3x3: 1.0\n",
      "Element 3x2: 1.4142135623730951\n"
     ]
    }
   ],
   "source": [
    "print(\"Element 1x1: {0}\".format(M[0,0]))\n",
    "print(\"Element 3x3: {0}\".format(M[2,2]))\n",
    "print(\"Element 3x2: {0}\".format(M[2,1]))\n",
    "\n",
    "w1 = M[:,2]\n",
    "w2 = M[1,:]"
   ]
  },
  {
   "cell_type": "markdown",
   "metadata": {},
   "source": [
    "Zadanie 8."
   ]
  },
  {
   "cell_type": "code",
   "execution_count": 1,
   "metadata": {},
   "outputs": [
    {
     "name": "stdout",
     "output_type": "stream",
     "text": [
      "[ 5.  3.  2. -2. -1.]\n",
      "Sprawdzilem miejsce zerowe i zgadza się dla x0= 5.0\n",
      "Sprawdzilem miejsce zerowe i zgadza się dla x0= 3.0\n",
      "Sprawdzilem miejsce zerowe i zgadza się dla x0= 2.0\n",
      "Sprawdzilem miejsce zerowe i zgadza się dla x0= -2.0\n",
      "Sprawdzilem miejsce zerowe i zgadza się dla x0= -1.0\n"
     ]
    }
   ],
   "source": [
    "import numpy as np\n",
    "import math \n",
    "\n",
    "coefs = [1, -7, 3, 43, -28, -60] #Nasz wielomian podany w zadaniu\n",
    "r=np.roots(coefs)\n",
    "\n",
    "x0 = r[np.isreal(r)]\n",
    "\n",
    "print(x0) \n",
    "\n",
    "i=0\n",
    "while i<len(x0):\n",
    "  x0[i] = round(x0[i],0)\n",
    "  \n",
    "  if(pow(x0[i],5)-7*math.pow(x0[i],4)+3*math.pow(x0[i],3)+43*math.pow(x0[i],2)-28*x0[i]-60==0):\n",
    "    print(\"Sprawdzilem miejsce zerowe i zgadza się dla x0=\",x0[i])\n",
    "  else:\n",
    "    print(\"Nie zgadza się coś dla x0=\",x0[i])\n",
    "  i+=1\n"
   ]
  },
  {
   "cell_type": "markdown",
   "metadata": {},
   "source": [
    "Zadanie 9."
   ]
  },
  {
   "cell_type": "code",
   "execution_count": 38,
   "metadata": {},
   "outputs": [
    {
     "name": "stdout",
     "output_type": "stream",
     "text": [
      "[ -4.00000000e+00  -3.66666667e+00  -3.33333333e+00  -3.00000000e+00\n",
      "  -2.66666667e+00  -2.33333333e+00  -2.00000000e+00  -1.66666667e+00\n",
      "  -1.33333333e+00  -1.00000000e+00  -6.66666667e-01  -3.33333333e-01\n",
      "   1.77635684e-15   3.33333333e-01   6.66666667e-01   1.00000000e+00\n",
      "   1.33333333e+00   1.66666667e+00   2.00000000e+00   2.33333333e+00\n",
      "   2.66666667e+00   3.00000000e+00   3.33333333e+00   3.66666667e+00]\n",
      "(array([-4.        , -3.86440678, -3.72881356, -3.59322034, -3.45762712,\n",
      "       -3.3220339 , -3.18644068, -3.05084746, -2.91525424, -2.77966102,\n",
      "       -2.6440678 , -2.50847458, -2.37288136, -2.23728814, -2.10169492,\n",
      "       -1.96610169, -1.83050847, -1.69491525, -1.55932203, -1.42372881,\n",
      "       -1.28813559, -1.15254237, -1.01694915, -0.88135593, -0.74576271,\n",
      "       -0.61016949, -0.47457627, -0.33898305, -0.20338983, -0.06779661,\n",
      "        0.06779661,  0.20338983,  0.33898305,  0.47457627,  0.61016949,\n",
      "        0.74576271,  0.88135593,  1.01694915,  1.15254237,  1.28813559,\n",
      "        1.42372881,  1.55932203,  1.69491525,  1.83050847,  1.96610169,\n",
      "        2.10169492,  2.23728814,  2.37288136,  2.50847458,  2.6440678 ,\n",
      "        2.77966102,  2.91525424,  3.05084746,  3.18644068,  3.3220339 ,\n",
      "        3.45762712,  3.59322034,  3.72881356,  3.86440678,  4.        ]), 0.13559322033898305)\n"
     ]
    }
   ],
   "source": [
    "print(np.arange(-4, 4, 1/3))\n",
    "print(np.linspace(-4.0, 4.0, num=60, retstep=True))"
   ]
  },
  {
   "cell_type": "markdown",
   "metadata": {},
   "source": [
    "Zadanie 10."
   ]
  },
  {
   "cell_type": "code",
   "execution_count": 41,
   "metadata": {},
   "outputs": [
    {
     "data": {
      "image/png": "[encoded data removed]",
      "text/plain": [
       "<matplotlib.figure.Figure at 0x1930b34abe0>"
      ]
     },
     "metadata": {},
     "output_type": "display_data"
    },
    {
     "data": {
      "image/png": "[encoded data removed]",
      "text/plain": [
       "<matplotlib.figure.Figure at 0x1930c3b12b0>"
      ]
     },
     "metadata": {},
     "output_type": "display_data"
    },
    {
     "data": {
      "image/png": "[encoded data removed]",
      "text/plain": [
       "<matplotlib.figure.Figure at 0x1930b373c50>"
      ]
     },
     "metadata": {},
     "output_type": "display_data"
    }
   ],
   "source": [
    "import matplotlib.pyplot as plt\n",
    "\n",
    "def funkcja(x):\n",
    "     return x**3 - 3*x\n",
    "\n",
    "def draw(x):\n",
    "     y = []\n",
    "\n",
    "     for i in x:\n",
    "         y.append(funkcja(i))\n",
    "     plt.plot(x, y)\n",
    "     plt.title('Wykres f(x) x^3-3*x')\n",
    "     plt.xlabel('x')\n",
    "     plt.ylabel('y')\n",
    "     plt.legend('funkcja')\n",
    "     plt.show()\n",
    "\n",
    "x = np.linspace(-1,1)\n",
    "draw(x)\n",
    "\n",
    "x = np.linspace(-5,5)\n",
    "draw(x)\n",
    "\n",
    "x = np.linspace(0,5)\n",
    "draw(x)\n"
   ]
  },
  {
   "cell_type": "markdown",
   "metadata": {},
   "source": [
    "Zadanie 11."
   ]
  },
  {
   "cell_type": "code",
   "execution_count": 20,
   "metadata": {
    "scrolled": false
   },
   "outputs": [
    {
     "name": "stdout",
     "output_type": "stream",
     "text": [
      "347.2222222222223 J\n",
      "0.08293260416666667 kcal\n"
     ]
    },
    {
     "data": {
      "image/png": "[encoded data removed]",
      "text/plain": [
       "<Figure size 432x288 with 1 Axes>"
      ]
     },
     "metadata": {
      "needs_background": "light"
     },
     "output_type": "display_data"
    },
    {
     "data": {
      "image/png": "[encoded data removed]",
      "text/plain": [
       "<Figure size 432x288 with 1 Axes>"
      ]
     },
     "metadata": {
      "needs_background": "light"
     },
     "output_type": "display_data"
    }
   ],
   "source": [
    "import matplotlib.pyplot as plt\n",
    "\n",
    "m=2500/1000\n",
    "v=60*1000/3600\n",
    "#na początku jest zamiana zmiennych m i v na jednostki podstawowe układu SI \n",
    "\n",
    "Q=(m*v**2)/2\n",
    "print(Q,\"J\")\n",
    "print(Q*0.0002388459,\"kcal\") # 1J = 0.0002388459kcal\n",
    "\n",
    "#Druga część zadania (wykres)\n",
    "\n",
    "##f. liniowa\n",
    "funkcja = lambda v: (3*v**2)/2\n",
    "\n",
    "x = np.linspace(200,0)\n",
    "y = []\n",
    "\n",
    "for i in x:\n",
    "    y.append(funkcja(i))\n",
    "plt.plot(x, y)\n",
    "plt.title('Wykres hamowania')\n",
    "plt.xlabel('x')\n",
    "plt.ylabel('y')\n",
    "plt.legend('funkcja')\n",
    "plt.show()\n",
    "\n",
    "##f. log.\n",
    "import pylab\n",
    "\n",
    "y = []\n",
    "\n",
    "a = [funkcja(i) for i in range(200)]\n",
    "fig = plt.figure()\n",
    "ax = fig.add_subplot(2, 1, 1)\n",
    "line, = ax.plot(a, color='blue', lw=2)\n",
    "ax.set_yscale('log')\n",
    "pylab.show()"
   ]
  },
  {
   "cell_type": "code",
   "execution_count": null,
   "metadata": {},
   "outputs": [],
   "source": []
  }
 ],
 "metadata": {
  "kernelspec": {
   "display_name": "Python 3",
   "language": "python",
   "name": "python3"
  },
  "language_info": {
   "codemirror_mode": {
    "name": "ipython",
    "version": 3
   },
   "file_extension": ".py",
   "mimetype": "text/x-python",
   "name": "python",
   "nbconvert_exporter": "python",
   "pygments_lexer": "ipython3",
   "version": "3.7.0"
  }
 },
 "nbformat": 4,
 "nbformat_minor": 2
}
