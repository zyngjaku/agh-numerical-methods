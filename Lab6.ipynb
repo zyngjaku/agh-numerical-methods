{
 "cells": [
  {
   "cell_type": "markdown",
   "metadata": {},
   "source": [
    "# <center>Laboratorium 6<br>Metody Numeryczne<br>Całkowanie Numeryczne</center>"
   ]
  },
  {
   "cell_type": "markdown",
   "metadata": {},
   "source": [
    "***Zadanie 1***   \n",
    "Na przedziale [0,1] dana jest funkcja \n",
    "$ f(x) = e^{-2x}$\n",
    "Oblicz całkę $\\int_{0}^{1}f(x)dx$ korzystając z:\n",
    "1. metody analitycznej,\n",
    "2. metody prostokątów,\n",
    "3. prostego wzoru trapezów,\n",
    "4. prostego wzoru Simpsona,\n",
    "5. złożonego wzoru trapezów (10 podprzedziałów),\n",
    "6. złożonego wzoru Simpsona (10 podprzedziałów),\n",
    "7. metody [Romberga](https://docs.scipy.org/doc/scipy/reference/generated/scipy.integrate.romberg.html) z dokładnością $10^{-6}$,\n",
    "8. metody [scipy.integrate.quad](https://docs.scipy.org/doc/scipy/reference/tutorial/integrate.html). \n",
    "\n",
    "Dokonaj własnej implementacji metod 2-6. Porównaj otrzymane wyniki. Który z nich jest najbardziej zbliżony do wyniku analitycznego?"
   ]
  },
  {
   "cell_type": "markdown",
   "metadata": {},
   "source": [
    "***Zadanie 2***  \n",
    "Dane jest równanie: $$\\int_{0}^{x}\\frac{1}{\\sqrt{2\\pi}}e^{\\frac{-t^2}{2}}dt=0.45$$ Rozwiąż je korzystając z metody Newtona z dokładnością $10^{-5}$ za punkt startowy przyjmując $p_0=0.5$. Do obliczenia całki zastosuj złożony wzór trapezów oraz złożony wzór Simpsona. Porównaj otrzymane wyniki z wartością referencyjną.\n",
    "\n",
    "***Wskazówka***: Zauważ, że powyższa całka opisuje prawdopodobieństwo $P(0\\leq t\\leq x)$ dla zmiennej losowej $t$ o rozkładzie Gaussa z parametrami $\\mu=0,\\sigma=1$. Do wyznaczenia wartości referencyjnej możesz użyć metody z  klasy [scipy.stats.norm](https://docs.scipy.org/doc/scipy/reference/generated/scipy.stats.norm.html)."
   ]
  },
  {
   "cell_type": "markdown",
   "metadata": {},
   "source": [
    "***Zadanie 3***  \n",
    "Kierowca jadący z miasta A do miasta B, zauważywszy na drodze przeszkodę, zaczął gwałtownie hamować aż do zatrzymania po czterech sekundach. Przyspieszenie jego samochodu zarejestrowane przez przypadkowego fizyka obserwującego zdarzenie przedstawione jest w poniższej tabeli. \n",
    "\n",
    "|czas \\[s\\]|przyspieszenie \\[$\\frac{m}{s^2}$\\]|\n",
    "|--|--|\n",
    "|0.0|-4.5|\n",
    "|0.5|-4.5|\n",
    "|1.0|-2.3|\n",
    "|2.0|-1.0|\n",
    "|3.0|-0.5|\n",
    "|4.0|0.0|\n",
    "\n",
    "* Oblicz drogę hamowania pojazdu.\n",
    "* Oblicz prędkość średnią samochodu w przedziale $t=\\left[0,0.5\\right]$.\n",
    "\n",
    "\n",
    "\n"
   ]
  },
  {
   "cell_type": "markdown",
   "metadata": {},
   "source": [
    "***Zadanie 4***  \n",
    "Arkusz blachy falistej otrzymywany jest poprzez prasowanie blachy płaskiej na formie w kształcie fali. Profil fali można opisać funkcją $f(x)=A\\sin(2\\pi\\frac{x}{T})$. Pracownik fabryki chce uzyskać arkusz blachy falistej o długości $4.8 \\textrm{m}$, amplitudzie $A=0.1 \\textrm{m}$ i okresie $T=0.2\\textrm{m}$.\n",
    "* Oblicz, ile metrów bieżących płaskiej blachy potrzeba do wyprodukowania opisanego arkusza. Obliczenia wykonaj wykorzystając złożoną metodę trapezów, złożoną metodę Simpsona oraz metodę Romberga, a następnie porównaj otrzymane rezultaty.\n",
    "* Dla wzoru trapezów oraz wzoru Simpsona wykonaj wykres prezentujący otrzymany rezultat w zależności od ilości podprzedziałów (od 1 do 100). Skomentuj otrzymane rezultaty.\n",
    "\n",
    "***Wskazówka***: Wykorzystaj znany Ci z analizy matematycznej wzór na [długość łuku krzywej](https://pl.wikipedia.org/wiki/Długość_łuku)."
   ]
  },
  {
   "cell_type": "code",
   "execution_count": null,
   "metadata": {},
   "outputs": [],
   "source": []
  }
 ],
 "metadata": {
  "kernelspec": {
   "display_name": "Python 3",
   "language": "python",
   "name": "python3"
  },
  "language_info": {
   "codemirror_mode": {
    "name": "ipython",
    "version": 3
   },
   "file_extension": ".py",
   "mimetype": "text/x-python",
   "name": "python",
   "nbconvert_exporter": "python",
   "pygments_lexer": "ipython3",
   "version": "3.7.0"
  }
 },
 "nbformat": 4,
 "nbformat_minor": 2
}
